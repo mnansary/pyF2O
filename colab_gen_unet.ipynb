{
 "cells": [
  {
   "cell_type": "markdown",
   "metadata": {
    "colab_type": "text",
    "id": "view-in-github"
   },
   "source": [
    "<a href=\"https://colab.research.google.com/github/mnansary/pyF2O/blob/master/gen_UNET.ipynb\" target=\"_parent\"><img src=\"https://colab.research.google.com/assets/colab-badge.svg\" alt=\"Open In Colab\"/></a>"
   ]
  },
  {
   "cell_type": "markdown",
   "metadata": {
    "colab_type": "text",
    "id": "1ojVYZ7Spzpv"
   },
   "source": [
    "# colab specific task\n",
    "*   mount google drive\n",
    "*   change working directory to git repo\n",
    "*   Check TF version\n",
    "*    TPU check\n",
    "\n"
   ]
  },
  {
   "cell_type": "code",
   "execution_count": 0,
   "metadata": {
    "colab": {},
    "colab_type": "code",
    "id": "--q4JaV2ps6z"
   },
   "outputs": [],
   "source": [
    "from google.colab import drive\n",
    "drive.mount('/content/gdrive')\n"
   ]
  },
  {
   "cell_type": "code",
   "execution_count": 2,
   "metadata": {
    "colab": {
     "base_uri": "https://localhost:8080/",
     "height": 34
    },
    "colab_type": "code",
    "id": "IsVhQoAOqGGW",
    "outputId": "59d797cb-239a-4963-9165-accf00efdd01"
   },
   "outputs": [
    {
     "name": "stdout",
     "output_type": "stream",
     "text": [
      "/content/gdrive/My Drive/PROJECTS/F2O/pyF2O\n"
     ]
    }
   ],
   "source": [
    "cd /content/gdrive/My\\ Drive/PROJECTS/F2O/pyF2O"
   ]
  },
  {
   "cell_type": "code",
   "execution_count": 0,
   "metadata": {
    "colab": {},
    "colab_type": "code",
    "id": "8Vp4y0TiqKJh"
   },
   "outputs": [],
   "source": [
    "!pip3 install tensorflow==1.13.1"
   ]
  },
  {
   "cell_type": "markdown",
   "metadata": {
    "colab_type": "text",
    "id": "692-uM-yqdaF"
   },
   "source": [
    "## TPU Check"
   ]
  },
  {
   "cell_type": "code",
   "execution_count": 4,
   "metadata": {
    "colab": {
     "base_uri": "https://localhost:8080/",
     "height": 255
    },
    "colab_type": "code",
    "id": "JT9QkSiJqed6",
    "outputId": "39c66cd4-6b97-4379-9aaa-79c4a7729399"
   },
   "outputs": [
    {
     "name": "stdout",
     "output_type": "stream",
     "text": [
      "TPU address is grpc://10.34.202.34:8470\n",
      "TPU devices:\n",
      "[_DeviceAttributes(/job:tpu_worker/replica:0/task:0/device:CPU:0, CPU, -1, 15318170538172937542),\n",
      " _DeviceAttributes(/job:tpu_worker/replica:0/task:0/device:XLA_CPU:0, XLA_CPU, 17179869184, 2044088442330208980),\n",
      " _DeviceAttributes(/job:tpu_worker/replica:0/task:0/device:TPU:0, TPU, 17179869184, 5511083403687981559),\n",
      " _DeviceAttributes(/job:tpu_worker/replica:0/task:0/device:TPU:1, TPU, 17179869184, 390915545170502836),\n",
      " _DeviceAttributes(/job:tpu_worker/replica:0/task:0/device:TPU:2, TPU, 17179869184, 10395733447917589580),\n",
      " _DeviceAttributes(/job:tpu_worker/replica:0/task:0/device:TPU:3, TPU, 17179869184, 8021730285916822536),\n",
      " _DeviceAttributes(/job:tpu_worker/replica:0/task:0/device:TPU:4, TPU, 17179869184, 773987150001408708),\n",
      " _DeviceAttributes(/job:tpu_worker/replica:0/task:0/device:TPU:5, TPU, 17179869184, 3487321397788448275),\n",
      " _DeviceAttributes(/job:tpu_worker/replica:0/task:0/device:TPU:6, TPU, 17179869184, 9609748434120576025),\n",
      " _DeviceAttributes(/job:tpu_worker/replica:0/task:0/device:TPU:7, TPU, 17179869184, 5160767960666924749),\n",
      " _DeviceAttributes(/job:tpu_worker/replica:0/task:0/device:TPU_SYSTEM:0, TPU_SYSTEM, 8589934592, 3585894923544397991)]\n"
     ]
    },
    {
     "data": {
      "text/plain": [
       "'1.13.1'"
      ]
     },
     "execution_count": 4,
     "metadata": {
      "tags": []
     },
     "output_type": "execute_result"
    }
   ],
   "source": [
    "import os\n",
    "import pprint\n",
    "import tensorflow as tf\n",
    "\n",
    "if 'COLAB_TPU_ADDR' not in os.environ:\n",
    "  print('ERROR: Not connected to a TPU runtime; please see the first cell in this notebook for instructions!')\n",
    "else:\n",
    "  tpu_address = 'grpc://' + os.environ['COLAB_TPU_ADDR']\n",
    "  print ('TPU address is', tpu_address)\n",
    "\n",
    "  with tf.Session(tpu_address) as session:\n",
    "    devices = session.list_devices()\n",
    "    \n",
    "  print('TPU devices:')\n",
    "  pprint.pprint(devices)\n",
    "\n",
    "tf.__version__"
   ]
  },
  {
   "cell_type": "markdown",
   "metadata": {
    "colab_type": "text",
    "id": "dxefiHZ4qlHA"
   },
   "source": [
    "# UNET generator Model Training"
   ]
  },
  {
   "cell_type": "markdown",
   "metadata": {
    "colab_type": "text",
    "id": "blwtSzOarVYM"
   },
   "source": [
    "## Compile Model"
   ]
  },
  {
   "cell_type": "code",
   "execution_count": 5,
   "metadata": {
    "colab": {
     "base_uri": "https://localhost:8080/",
     "height": 1000
    },
    "colab_type": "code",
    "id": "BOro7D1krWYf",
    "outputId": "baed9186-fefa-43cf-86eb-4db37a6f85b6"
   },
   "outputs": [
    {
     "name": "stdout",
     "output_type": "stream",
     "text": [
      "WARNING:tensorflow:From /usr/local/lib/python3.6/dist-packages/tensorflow/python/ops/resource_variable_ops.py:435: colocate_with (from tensorflow.python.framework.ops) is deprecated and will be removed in a future version.\n",
      "Instructions for updating:\n",
      "Colocations handled automatically by placer.\n"
     ]
    },
    {
     "name": "stderr",
     "output_type": "stream",
     "text": [
      "Using TensorFlow backend.\n"
     ]
    },
    {
     "name": "stdout",
     "output_type": "stream",
     "text": [
      "__________________________________________________________________________________________________\n",
      "Layer (type)                    Output Shape         Param #     Connected to                     \n",
      "==================================================================================================\n",
      "gen_enc_init_input (InputLayer) (None, 128, 128, 3)  0                                            \n",
      "__________________________________________________________________________________________________\n",
      "gen_enc_conv_1 (Conv2D)         (None, 64, 64, 64)   1792        gen_enc_init_input[0][0]         \n",
      "__________________________________________________________________________________________________\n",
      "gen_enc_conv_2_act (LeakyReLU)  (None, 64, 64, 64)   0           gen_enc_conv_1[0][0]             \n",
      "__________________________________________________________________________________________________\n",
      "gen_enc_conv_2 (Conv2D)         (None, 32, 32, 128)  73856       gen_enc_conv_2_act[0][0]         \n",
      "__________________________________________________________________________________________________\n",
      "gen_enc_conv_2_bn (BatchNormali (None, 32, 32, 128)  512         gen_enc_conv_2[0][0]             \n",
      "__________________________________________________________________________________________________\n",
      "gen_enc_conv_3_act (LeakyReLU)  (None, 32, 32, 128)  0           gen_enc_conv_2_bn[0][0]          \n",
      "__________________________________________________________________________________________________\n",
      "gen_enc_conv_3 (Conv2D)         (None, 16, 16, 256)  295168      gen_enc_conv_3_act[0][0]         \n",
      "__________________________________________________________________________________________________\n",
      "gen_enc_conv_3_bn (BatchNormali (None, 16, 16, 256)  1024        gen_enc_conv_3[0][0]             \n",
      "__________________________________________________________________________________________________\n",
      "gen_enc_conv_4_act (LeakyReLU)  (None, 16, 16, 256)  0           gen_enc_conv_3_bn[0][0]          \n",
      "__________________________________________________________________________________________________\n",
      "gen_enc_conv_4 (Conv2D)         (None, 8, 8, 512)    1180160     gen_enc_conv_4_act[0][0]         \n",
      "__________________________________________________________________________________________________\n",
      "gen_enc_conv_4_bn (BatchNormali (None, 8, 8, 512)    2048        gen_enc_conv_4[0][0]             \n",
      "__________________________________________________________________________________________________\n",
      "gen_enc_conv_5_act (LeakyReLU)  (None, 8, 8, 512)    0           gen_enc_conv_4_bn[0][0]          \n",
      "__________________________________________________________________________________________________\n",
      "gen_enc_conv_5 (Conv2D)         (None, 4, 4, 512)    2359808     gen_enc_conv_5_act[0][0]         \n",
      "__________________________________________________________________________________________________\n",
      "gen_enc_conv_5_bn (BatchNormali (None, 4, 4, 512)    2048        gen_enc_conv_5[0][0]             \n",
      "__________________________________________________________________________________________________\n",
      "gen_enc_conv_6_act (LeakyReLU)  (None, 4, 4, 512)    0           gen_enc_conv_5_bn[0][0]          \n",
      "__________________________________________________________________________________________________\n",
      "gen_enc_conv_6 (Conv2D)         (None, 2, 2, 512)    2359808     gen_enc_conv_6_act[0][0]         \n",
      "__________________________________________________________________________________________________\n",
      "gen_enc_conv_6_bn (BatchNormali (None, 2, 2, 512)    2048        gen_enc_conv_6[0][0]             \n",
      "__________________________________________________________________________________________________\n",
      "gen_enc_conv_7_act (LeakyReLU)  (None, 2, 2, 512)    0           gen_enc_conv_6_bn[0][0]          \n",
      "__________________________________________________________________________________________________\n",
      "gen_enc_conv_7 (Conv2D)         (None, 1, 1, 512)    2359808     gen_enc_conv_7_act[0][0]         \n",
      "__________________________________________________________________________________________________\n",
      "gen_enc_conv_7_bn (BatchNormali (None, 1, 1, 512)    2048        gen_enc_conv_7[0][0]             \n",
      "__________________________________________________________________________________________________\n",
      "gen_dec_conv_1_act (Activation) (None, 1, 1, 512)    0           gen_enc_conv_7_bn[0][0]          \n",
      "__________________________________________________________________________________________________\n",
      "gen_dec_conv_1_ups (UpSampling2 (None, 2, 2, 512)    0           gen_dec_conv_1_act[0][0]         \n",
      "__________________________________________________________________________________________________\n",
      "gen_dec_conv_1 (Conv2D)         (None, 2, 2, 512)    2359808     gen_dec_conv_1_ups[0][0]         \n",
      "__________________________________________________________________________________________________\n",
      "gen_dec_conv_1_bn (BatchNormali (None, 2, 2, 512)    2048        gen_dec_conv_1[0][0]             \n",
      "__________________________________________________________________________________________________\n",
      "gen_dec_conv_1_conc (Concatenat (None, 2, 2, 1024)   0           gen_dec_conv_1_bn[0][0]          \n",
      "                                                                 gen_enc_conv_6_bn[0][0]          \n",
      "__________________________________________________________________________________________________\n",
      "gen_dec_conv_2_act (Activation) (None, 2, 2, 1024)   0           gen_dec_conv_1_conc[0][0]        \n",
      "__________________________________________________________________________________________________\n",
      "gen_dec_conv_2_ups (UpSampling2 (None, 4, 4, 1024)   0           gen_dec_conv_2_act[0][0]         \n",
      "__________________________________________________________________________________________________\n",
      "gen_dec_conv_2 (Conv2D)         (None, 4, 4, 512)    4719104     gen_dec_conv_2_ups[0][0]         \n",
      "__________________________________________________________________________________________________\n",
      "gen_dec_conv_2_bn (BatchNormali (None, 4, 4, 512)    2048        gen_dec_conv_2[0][0]             \n",
      "__________________________________________________________________________________________________\n",
      "gen_dec_conv_2_conc (Concatenat (None, 4, 4, 1024)   0           gen_dec_conv_2_bn[0][0]          \n",
      "                                                                 gen_enc_conv_5_bn[0][0]          \n",
      "__________________________________________________________________________________________________\n",
      "gen_dec_conv_3_act (Activation) (None, 4, 4, 1024)   0           gen_dec_conv_2_conc[0][0]        \n",
      "__________________________________________________________________________________________________\n",
      "gen_dec_conv_3_ups (UpSampling2 (None, 8, 8, 1024)   0           gen_dec_conv_3_act[0][0]         \n",
      "__________________________________________________________________________________________________\n",
      "gen_dec_conv_3 (Conv2D)         (None, 8, 8, 256)    2359552     gen_dec_conv_3_ups[0][0]         \n",
      "__________________________________________________________________________________________________\n",
      "gen_dec_conv_3_bn (BatchNormali (None, 8, 8, 256)    1024        gen_dec_conv_3[0][0]             \n",
      "__________________________________________________________________________________________________\n",
      "gen_dec_conv_3_conc (Concatenat (None, 8, 8, 768)    0           gen_dec_conv_3_bn[0][0]          \n",
      "                                                                 gen_enc_conv_4_bn[0][0]          \n",
      "__________________________________________________________________________________________________\n",
      "gen_dec_conv_4_act (Activation) (None, 8, 8, 768)    0           gen_dec_conv_3_conc[0][0]        \n",
      "__________________________________________________________________________________________________\n",
      "gen_dec_conv_4_ups (UpSampling2 (None, 16, 16, 768)  0           gen_dec_conv_4_act[0][0]         \n",
      "__________________________________________________________________________________________________\n",
      "gen_dec_conv_4 (Conv2D)         (None, 16, 16, 128)  884864      gen_dec_conv_4_ups[0][0]         \n",
      "__________________________________________________________________________________________________\n",
      "gen_dec_conv_4_bn (BatchNormali (None, 16, 16, 128)  512         gen_dec_conv_4[0][0]             \n",
      "__________________________________________________________________________________________________\n",
      "gen_dec_conv_4_conc (Concatenat (None, 16, 16, 384)  0           gen_dec_conv_4_bn[0][0]          \n",
      "                                                                 gen_enc_conv_3_bn[0][0]          \n",
      "__________________________________________________________________________________________________\n",
      "gen_dec_conv_5_act (Activation) (None, 16, 16, 384)  0           gen_dec_conv_4_conc[0][0]        \n",
      "__________________________________________________________________________________________________\n",
      "gen_dec_conv_5_ups (UpSampling2 (None, 32, 32, 384)  0           gen_dec_conv_5_act[0][0]         \n",
      "__________________________________________________________________________________________________\n",
      "gen_dec_conv_5 (Conv2D)         (None, 32, 32, 64)   221248      gen_dec_conv_5_ups[0][0]         \n",
      "__________________________________________________________________________________________________\n",
      "gen_dec_conv_5_bn (BatchNormali (None, 32, 32, 64)   256         gen_dec_conv_5[0][0]             \n",
      "__________________________________________________________________________________________________\n",
      "gen_dec_conv_5_conc (Concatenat (None, 32, 32, 192)  0           gen_dec_conv_5_bn[0][0]          \n",
      "                                                                 gen_enc_conv_2_bn[0][0]          \n",
      "__________________________________________________________________________________________________\n",
      "gen_dec_conv_6_act (Activation) (None, 32, 32, 192)  0           gen_dec_conv_5_conc[0][0]        \n",
      "__________________________________________________________________________________________________\n",
      "gen_dec_conv_6_ups (UpSampling2 (None, 64, 64, 192)  0           gen_dec_conv_6_act[0][0]         \n",
      "__________________________________________________________________________________________________\n",
      "gen_dec_conv_6 (Conv2D)         (None, 64, 64, 64)   110656      gen_dec_conv_6_ups[0][0]         \n",
      "__________________________________________________________________________________________________\n",
      "gen_dec_conv_6_bn (BatchNormali (None, 64, 64, 64)   256         gen_dec_conv_6[0][0]             \n",
      "__________________________________________________________________________________________________\n",
      "gen_dec_conv_6_conc (Concatenat (None, 64, 64, 128)  0           gen_dec_conv_6_bn[0][0]          \n",
      "                                                                 gen_enc_conv_1[0][0]             \n",
      "__________________________________________________________________________________________________\n",
      "gen_dec_conv_last_act (Activati (None, 64, 64, 128)  0           gen_dec_conv_6_conc[0][0]        \n",
      "__________________________________________________________________________________________________\n",
      "gen_dec_conv_last_ups (UpSampli (None, 128, 128, 128 0           gen_dec_conv_last_act[0][0]      \n",
      "__________________________________________________________________________________________________\n",
      "gen_dec_conv_last (Conv2D)      (None, 128, 128, 3)  3459        gen_dec_conv_last_ups[0][0]      \n",
      "__________________________________________________________________________________________________\n",
      "gen_dec_conv_final_act (Activat (None, 128, 128, 3)  0           gen_dec_conv_last[0][0]          \n",
      "==================================================================================================\n",
      "Total params: 19,304,963\n",
      "Trainable params: 19,297,027\n",
      "Non-trainable params: 7,936\n",
      "__________________________________________________________________________________________________\n"
     ]
    }
   ],
   "source": [
    "from tensorflow.keras.optimizers import Adam\n",
    "from tensorflow.keras.losses import binary_crossentropy\n",
    "import sys\n",
    "sys.path.append(\"..\")\n",
    "from core.generators import unet\n",
    "model=unet()\n",
    "model.summary()\n",
    "model.compile(optimizer=Adam(lr=0.01), loss=binary_crossentropy)"
   ]
  },
  {
   "cell_type": "markdown",
   "metadata": {
    "colab_type": "text",
    "id": "9fqLlsIcrgJ6"
   },
   "source": [
    "## Convert Model"
   ]
  },
  {
   "cell_type": "code",
   "execution_count": 6,
   "metadata": {
    "colab": {
     "base_uri": "https://localhost:8080/",
     "height": 479
    },
    "colab_type": "code",
    "id": "sLuMCkq5rha3",
    "outputId": "1f1a8931-99d1-4c29-f981-9a0c7d3477e3"
   },
   "outputs": [
    {
     "name": "stdout",
     "output_type": "stream",
     "text": [
      "\n",
      "WARNING: The TensorFlow contrib module will not be included in TensorFlow 2.0.\n",
      "For more information, please see:\n",
      "  * https://github.com/tensorflow/community/blob/master/rfcs/20180907-contrib-sunset.md\n",
      "  * https://github.com/tensorflow/addons\n",
      "If you depend on functionality not listed there, please file an issue.\n",
      "\n",
      "INFO:tensorflow:Querying Tensorflow master (grpc://10.34.202.34:8470) for TPU system metadata.\n",
      "INFO:tensorflow:Found TPU system:\n",
      "INFO:tensorflow:*** Num TPU Cores: 8\n",
      "INFO:tensorflow:*** Num TPU Workers: 1\n",
      "INFO:tensorflow:*** Num TPU Cores Per Worker: 8\n",
      "INFO:tensorflow:*** Available Device: _DeviceAttributes(/job:worker/replica:0/task:0/device:CPU:0, CPU, -1, 15318170538172937542)\n",
      "INFO:tensorflow:*** Available Device: _DeviceAttributes(/job:worker/replica:0/task:0/device:XLA_CPU:0, XLA_CPU, 17179869184, 2044088442330208980)\n",
      "INFO:tensorflow:*** Available Device: _DeviceAttributes(/job:worker/replica:0/task:0/device:TPU:0, TPU, 17179869184, 5511083403687981559)\n",
      "INFO:tensorflow:*** Available Device: _DeviceAttributes(/job:worker/replica:0/task:0/device:TPU:1, TPU, 17179869184, 390915545170502836)\n",
      "INFO:tensorflow:*** Available Device: _DeviceAttributes(/job:worker/replica:0/task:0/device:TPU:2, TPU, 17179869184, 10395733447917589580)\n",
      "INFO:tensorflow:*** Available Device: _DeviceAttributes(/job:worker/replica:0/task:0/device:TPU:3, TPU, 17179869184, 8021730285916822536)\n",
      "INFO:tensorflow:*** Available Device: _DeviceAttributes(/job:worker/replica:0/task:0/device:TPU:4, TPU, 17179869184, 773987150001408708)\n",
      "INFO:tensorflow:*** Available Device: _DeviceAttributes(/job:worker/replica:0/task:0/device:TPU:5, TPU, 17179869184, 3487321397788448275)\n",
      "INFO:tensorflow:*** Available Device: _DeviceAttributes(/job:worker/replica:0/task:0/device:TPU:6, TPU, 17179869184, 9609748434120576025)\n",
      "INFO:tensorflow:*** Available Device: _DeviceAttributes(/job:worker/replica:0/task:0/device:TPU:7, TPU, 17179869184, 5160767960666924749)\n",
      "INFO:tensorflow:*** Available Device: _DeviceAttributes(/job:worker/replica:0/task:0/device:TPU_SYSTEM:0, TPU_SYSTEM, 8589934592, 3585894923544397991)\n",
      "WARNING:tensorflow:tpu_model (from tensorflow.contrib.tpu.python.tpu.keras_support) is experimental and may change or be removed at any time, and without warning.\n",
      "INFO:tensorflow:Cloning Adam {'lr': 0.009999999776482582, 'beta_1': 0.8999999761581421, 'beta_2': 0.9990000128746033, 'decay': 0.0, 'epsilon': 1e-07, 'amsgrad': False}\n",
      "INFO:tensorflow:Cloning Adam {'lr': 0.009999999776482582, 'beta_1': 0.8999999761581421, 'beta_2': 0.9990000128746033, 'decay': 0.0, 'epsilon': 1e-07, 'amsgrad': False}\n"
     ]
    }
   ],
   "source": [
    "# This address identifies the TPU we'll use when configuring TensorFlow.\n",
    "TPU_WORKER = 'grpc://' + os.environ['COLAB_TPU_ADDR']\n",
    "tf.logging.set_verbosity(tf.logging.INFO)\n",
    "\n",
    "def convert_model_TPU(model):\n",
    "  return tf.contrib.tpu.keras_to_tpu_model(model,\n",
    "                                           strategy=tf.contrib.tpu.TPUDistributionStrategy(\n",
    "                                               tf.contrib.cluster_resolver.TPUClusterResolver(TPU_WORKER)\n",
    "                                               )\n",
    "                                           )\n",
    "\n",
    "model=convert_model_TPU(model)"
   ]
  },
  {
   "cell_type": "markdown",
   "metadata": {
    "colab_type": "text",
    "id": "XMWNlaqLNIPY"
   },
   "source": [
    "## Data\n",
    "* Load **X_Train_ALL.h5** and **Y_Train_ALL.h5**\n",
    "* Normalize both dataset as float32\n",
    "* Split the data for **validation** and **training**\n",
    "* Drop Batch Reminders\n"
   ]
  },
  {
   "cell_type": "code",
   "execution_count": 7,
   "metadata": {
    "colab": {
     "base_uri": "https://localhost:8080/",
     "height": 187
    },
    "colab_type": "code",
    "id": "_WMdSlCZJPWi",
    "outputId": "c2631e43-90d8-40a5-b66d-99a55ba47792"
   },
   "outputs": [
    {
     "name": "stdout",
     "output_type": "stream",
     "text": [
      "Before Drop\n",
      "X_train: (4480, 128, 128, 3)\n",
      "Y_train: (4480, 128, 128, 3)\n",
      "X_eval: (1120, 128, 128, 3)\n",
      "Y_eval: (1120, 128, 128, 3)\n",
      "After Drop\n",
      "X_train: (4480, 128, 128, 3)\n",
      "Y_train: (4480, 128, 128, 3)\n",
      "X_eval: (1024, 128, 128, 3)\n",
      "Y_eval: (1024, 128, 128, 3)\n"
     ]
    }
   ],
   "source": [
    "from core.utils import readh5\n",
    "import os\n",
    "import numpy as np\n",
    "from sklearn.model_selection import train_test_split  \n",
    "\n",
    "class TRAIN_FLAGS:\n",
    "    H5_DIR   = '/content/gdrive/My Drive/PROJECTS/F2O/H5Data/' # @param\n",
    "    BATCH_SIZE      = 128  # @param\n",
    "    NUM_EPOCHS      = 500  # @param\n",
    "    IMAGE_DIM       = 128  # @param\n",
    "    X_IDEN          = 'X_Train_ALL.h5'  # @param\n",
    "    Y_IDEN          = 'Y_Train_ALL.h5'  # @param\n",
    "\n",
    "X=readh5(os.path.join(TRAIN_FLAGS.H5_DIR,TRAIN_FLAGS.X_IDEN))\n",
    "Y=readh5(os.path.join(TRAIN_FLAGS.H5_DIR,TRAIN_FLAGS.Y_IDEN))\n",
    "# Normalize\n",
    "X=X.astype('float32')/255.0\n",
    "Y=Y.astype('float32')/255.0\n",
    "# Test And Validation\n",
    "Xt,Xv,Yt,Yv=train_test_split(X,Y,test_size=0.2)\n",
    "\n",
    "print(\"Before Drop\")\n",
    "print(\"X_train: {}\".format(Xt.shape))\n",
    "print(\"Y_train: {}\".format(Yt.shape))\n",
    "print(\"X_eval: {}\".format(Xv.shape))\n",
    "print(\"Y_eval: {}\".format(Yv.shape))\n",
    "\n",
    "# Drop Batch Residue\n",
    "nb_sig_train=int(Xt.shape[0]/TRAIN_FLAGS.BATCH_SIZE)*TRAIN_FLAGS.BATCH_SIZE \n",
    "nb_sig_eval=int(Xv.shape[0]/TRAIN_FLAGS.BATCH_SIZE)*TRAIN_FLAGS.BATCH_SIZE \n",
    "\n",
    "Xt=Xt[:nb_sig_train,:,:,:]\n",
    "Yt=Yt[:nb_sig_train,:,:,:]\n",
    "Xv=Xv[:nb_sig_eval,:,:,:]\n",
    "Yv=Yv[:nb_sig_eval,:,:,:]\n",
    "\n",
    "print(\"After Drop\")\n",
    "print(\"X_train: {}\".format(Xt.shape))\n",
    "print(\"Y_train: {}\".format(Yt.shape))\n",
    "print(\"X_eval: {}\".format(Xv.shape))\n",
    "print(\"Y_eval: {}\".format(Yv.shape))\n"
   ]
  },
  {
   "cell_type": "markdown",
   "metadata": {
    "colab_type": "text",
    "id": "9nQXx8YRNSyr"
   },
   "source": [
    "## Train"
   ]
  },
  {
   "cell_type": "code",
   "execution_count": 8,
   "metadata": {
    "colab": {
     "base_uri": "https://localhost:8080/",
     "height": 751
    },
    "colab_type": "code",
    "id": "OWTUQlweNYYN",
    "outputId": "d0c612f2-0146-4486-e0ef-45cbabf84cf3"
   },
   "outputs": [
    {
     "name": "stdout",
     "output_type": "stream",
     "text": [
      "Train on 4480 samples, validate on 1024 samples\n",
      "Epoch 1/500\n",
      "INFO:tensorflow:New input shapes; (re-)compiling: mode=train (# of cores 8), [TensorSpec(shape=(16,), dtype=tf.int32, name='core_id0'), TensorSpec(shape=(16, 128, 128, 3), dtype=tf.float32, name='gen_enc_init_input_10'), TensorSpec(shape=(16, 128, 128, 3), dtype=tf.float32, name='gen_dec_conv_final_act_target_30')]\n",
      "INFO:tensorflow:Overriding default placeholder.\n",
      "INFO:tensorflow:Cloning Adam {'lr': 0.009999999776482582, 'beta_1': 0.8999999761581421, 'beta_2': 0.9990000128746033, 'decay': 0.0, 'epsilon': 1e-07, 'amsgrad': False}\n",
      "INFO:tensorflow:Remapping placeholder for gen_enc_init_input\n",
      "WARNING:tensorflow:From /usr/local/lib/python3.6/dist-packages/tensorflow/contrib/tpu/python/tpu/keras_support.py:302: to_float (from tensorflow.python.ops.math_ops) is deprecated and will be removed in a future version.\n",
      "Instructions for updating:\n",
      "Use tf.cast instead.\n",
      "INFO:tensorflow:KerasCrossShard: <tensorflow.python.keras.optimizers.Adam object at 0x7fa774ea97b8> []\n",
      "WARNING:tensorflow:From /usr/local/lib/python3.6/dist-packages/tensorflow/python/ops/math_ops.py:3066: to_int32 (from tensorflow.python.ops.math_ops) is deprecated and will be removed in a future version.\n",
      "Instructions for updating:\n",
      "Use tf.cast instead.\n",
      "INFO:tensorflow:Started compiling\n"
     ]
    },
    {
     "ename": "RuntimeError",
     "evalue": "ignored",
     "output_type": "error",
     "traceback": [
      "\u001b[0;31m---------------------------------------------------------------------------\u001b[0m",
      "\u001b[0;31mRuntimeError\u001b[0m                              Traceback (most recent call last)",
      "\u001b[0;32m<ipython-input-8-6626043666ba>\u001b[0m in \u001b[0;36m<module>\u001b[0;34m()\u001b[0m\n\u001b[0;32m----> 1\u001b[0;31m \u001b[0mhistory\u001b[0m\u001b[0;34m=\u001b[0m\u001b[0mmodel\u001b[0m\u001b[0;34m.\u001b[0m\u001b[0mfit\u001b[0m\u001b[0;34m(\u001b[0m\u001b[0mXt\u001b[0m\u001b[0;34m,\u001b[0m\u001b[0mYt\u001b[0m\u001b[0;34m,\u001b[0m\u001b[0mvalidation_data\u001b[0m\u001b[0;34m=\u001b[0m\u001b[0;34m(\u001b[0m\u001b[0mXv\u001b[0m\u001b[0;34m,\u001b[0m\u001b[0mYv\u001b[0m\u001b[0;34m)\u001b[0m\u001b[0;34m,\u001b[0m\u001b[0mepochs\u001b[0m\u001b[0;34m=\u001b[0m\u001b[0mTRAIN_FLAGS\u001b[0m\u001b[0;34m.\u001b[0m\u001b[0mNUM_EPOCHS\u001b[0m\u001b[0;34m,\u001b[0m\u001b[0mbatch_size\u001b[0m\u001b[0;34m=\u001b[0m\u001b[0mTRAIN_FLAGS\u001b[0m\u001b[0;34m.\u001b[0m\u001b[0mBATCH_SIZE\u001b[0m\u001b[0;34m,\u001b[0m \u001b[0mverbose\u001b[0m\u001b[0;34m=\u001b[0m\u001b[0;36m1\u001b[0m\u001b[0;34m)\u001b[0m\u001b[0;34m\u001b[0m\u001b[0;34m\u001b[0m\u001b[0m\n\u001b[0m",
      "\u001b[0;32m/usr/local/lib/python3.6/dist-packages/tensorflow/contrib/tpu/python/tpu/keras_support.py\u001b[0m in \u001b[0;36mfit\u001b[0;34m(self, x, y, batch_size, epochs, verbose, callbacks, validation_split, validation_data, shuffle, class_weight, sample_weight, initial_epoch, steps_per_epoch, validation_steps, **kwargs)\u001b[0m\n\u001b[1;32m   1530\u001b[0m                                   \u001b[0mvalidation_split\u001b[0m\u001b[0;34m,\u001b[0m \u001b[0mvalidation_data\u001b[0m\u001b[0;34m,\u001b[0m \u001b[0mshuffle\u001b[0m\u001b[0;34m,\u001b[0m\u001b[0;34m\u001b[0m\u001b[0;34m\u001b[0m\u001b[0m\n\u001b[1;32m   1531\u001b[0m                                   \u001b[0mclass_weight\u001b[0m\u001b[0;34m,\u001b[0m \u001b[0msample_weight\u001b[0m\u001b[0;34m,\u001b[0m \u001b[0minitial_epoch\u001b[0m\u001b[0;34m,\u001b[0m\u001b[0;34m\u001b[0m\u001b[0;34m\u001b[0m\u001b[0m\n\u001b[0;32m-> 1532\u001b[0;31m                                   steps_per_epoch, validation_steps, **kwargs)\n\u001b[0m\u001b[1;32m   1533\u001b[0m       \u001b[0;32mfinally\u001b[0m\u001b[0;34m:\u001b[0m\u001b[0;34m\u001b[0m\u001b[0;34m\u001b[0m\u001b[0m\n\u001b[1;32m   1534\u001b[0m         \u001b[0mself\u001b[0m\u001b[0;34m.\u001b[0m\u001b[0m_numpy_to_infeed_manager_list\u001b[0m \u001b[0;34m=\u001b[0m \u001b[0;34m[\u001b[0m\u001b[0;34m]\u001b[0m\u001b[0;34m\u001b[0m\u001b[0;34m\u001b[0m\u001b[0m\n",
      "\u001b[0;32m/usr/local/lib/python3.6/dist-packages/tensorflow/contrib/tpu/python/tpu/keras_support.py\u001b[0m in \u001b[0;36m_pipeline_fit\u001b[0;34m(self, x, y, batch_size, epochs, verbose, callbacks, validation_split, validation_data, shuffle, class_weight, sample_weight, initial_epoch, steps_per_epoch, validation_steps, **kwargs)\u001b[0m\n\u001b[1;32m   1631\u001b[0m         \u001b[0minitial_epoch\u001b[0m\u001b[0;34m=\u001b[0m\u001b[0minitial_epoch\u001b[0m\u001b[0;34m,\u001b[0m\u001b[0;34m\u001b[0m\u001b[0;34m\u001b[0m\u001b[0m\n\u001b[1;32m   1632\u001b[0m         \u001b[0msteps_per_epoch\u001b[0m\u001b[0;34m=\u001b[0m\u001b[0msteps_per_epoch\u001b[0m\u001b[0;34m,\u001b[0m\u001b[0;34m\u001b[0m\u001b[0;34m\u001b[0m\u001b[0m\n\u001b[0;32m-> 1633\u001b[0;31m         validation_steps=validation_steps)\n\u001b[0m\u001b[1;32m   1634\u001b[0m \u001b[0;34m\u001b[0m\u001b[0m\n\u001b[1;32m   1635\u001b[0m   def _pipeline_fit_loop(self,\n",
      "\u001b[0;32m/usr/local/lib/python3.6/dist-packages/tensorflow/contrib/tpu/python/tpu/keras_support.py\u001b[0m in \u001b[0;36m_pipeline_fit_loop\u001b[0;34m(self, inputs, targets, sample_weights, batch_size, epochs, verbose, callbacks, val_inputs, val_targets, val_sample_weights, shuffle, initial_epoch, steps_per_epoch, validation_steps)\u001b[0m\n\u001b[1;32m   1730\u001b[0m             \u001b[0mval_sample_weights\u001b[0m\u001b[0;34m=\u001b[0m\u001b[0mval_sample_weights\u001b[0m\u001b[0;34m,\u001b[0m\u001b[0;34m\u001b[0m\u001b[0;34m\u001b[0m\u001b[0m\n\u001b[1;32m   1731\u001b[0m             \u001b[0mvalidation_steps\u001b[0m\u001b[0;34m=\u001b[0m\u001b[0mvalidation_steps\u001b[0m\u001b[0;34m,\u001b[0m\u001b[0;34m\u001b[0m\u001b[0;34m\u001b[0m\u001b[0m\n\u001b[0;32m-> 1732\u001b[0;31m             epoch_logs=epoch_logs)\n\u001b[0m\u001b[1;32m   1733\u001b[0m \u001b[0;34m\u001b[0m\u001b[0m\n\u001b[1;32m   1734\u001b[0m       \u001b[0mcallbacks\u001b[0m\u001b[0;34m.\u001b[0m\u001b[0mon_epoch_end\u001b[0m\u001b[0;34m(\u001b[0m\u001b[0mepoch\u001b[0m\u001b[0;34m,\u001b[0m \u001b[0mepoch_logs\u001b[0m\u001b[0;34m)\u001b[0m\u001b[0;34m\u001b[0m\u001b[0;34m\u001b[0m\u001b[0m\n",
      "\u001b[0;32m/usr/local/lib/python3.6/dist-packages/tensorflow/contrib/tpu/python/tpu/keras_support.py\u001b[0m in \u001b[0;36m_pipeline_fit_loop_sample_wise\u001b[0;34m(self, ins, callbacks, index_array, shuffle, batch_size, num_training_samples, indices_for_conversion_to_dense, do_validation, val_inputs, val_targets, val_sample_weights, validation_steps, epoch_logs)\u001b[0m\n\u001b[1;32m   1786\u001b[0m \u001b[0;34m\u001b[0m\u001b[0m\n\u001b[1;32m   1787\u001b[0m       outs = f.pipeline_run(\n\u001b[0;32m-> 1788\u001b[0;31m           cur_step_inputs=ins_last_batch, next_step_inputs=ins_batch)\n\u001b[0m\u001b[1;32m   1789\u001b[0m       \u001b[0mins_last_batch\u001b[0m \u001b[0;34m=\u001b[0m \u001b[0mins_batch\u001b[0m\u001b[0;34m\u001b[0m\u001b[0;34m\u001b[0m\u001b[0m\n\u001b[1;32m   1790\u001b[0m \u001b[0;34m\u001b[0m\u001b[0m\n",
      "\u001b[0;32m/usr/local/lib/python3.6/dist-packages/tensorflow/contrib/tpu/python/tpu/keras_support.py\u001b[0m in \u001b[0;36mpipeline_run\u001b[0;34m(***failed resolving arguments***)\u001b[0m\n\u001b[1;32m   1334\u001b[0m           next_input_tensors)\n\u001b[1;32m   1335\u001b[0m       next_tpu_model_ops = self._tpu_model_ops_for_input_specs(\n\u001b[0;32m-> 1336\u001b[0;31m           next_input_specs, next_step_infeed_manager)\n\u001b[0m\u001b[1;32m   1337\u001b[0m       \u001b[0minfeed_dict\u001b[0m \u001b[0;34m=\u001b[0m \u001b[0mnext_infeed_instance\u001b[0m\u001b[0;34m.\u001b[0m\u001b[0mmake_feed_dict\u001b[0m\u001b[0;34m(\u001b[0m\u001b[0mnext_tpu_model_ops\u001b[0m\u001b[0;34m)\u001b[0m\u001b[0;34m\u001b[0m\u001b[0;34m\u001b[0m\u001b[0m\n\u001b[1;32m   1338\u001b[0m \u001b[0;34m\u001b[0m\u001b[0m\n",
      "\u001b[0;32m/usr/local/lib/python3.6/dist-packages/tensorflow/contrib/tpu/python/tpu/keras_support.py\u001b[0m in \u001b[0;36m_tpu_model_ops_for_input_specs\u001b[0;34m(self, input_specs, infeed_manager)\u001b[0m\n\u001b[1;32m   1169\u001b[0m                                                  infeed_manager)\n\u001b[1;32m   1170\u001b[0m       \u001b[0mself\u001b[0m\u001b[0;34m.\u001b[0m\u001b[0m_compilation_cache\u001b[0m\u001b[0;34m[\u001b[0m\u001b[0mshape_key\u001b[0m\u001b[0;34m]\u001b[0m \u001b[0;34m=\u001b[0m \u001b[0mnew_tpu_model_ops\u001b[0m\u001b[0;34m\u001b[0m\u001b[0;34m\u001b[0m\u001b[0m\n\u001b[0;32m-> 1171\u001b[0;31m       \u001b[0mself\u001b[0m\u001b[0;34m.\u001b[0m\u001b[0m_test_model_compiles\u001b[0m\u001b[0;34m(\u001b[0m\u001b[0mnew_tpu_model_ops\u001b[0m\u001b[0;34m)\u001b[0m\u001b[0;34m\u001b[0m\u001b[0;34m\u001b[0m\u001b[0m\n\u001b[0m\u001b[1;32m   1172\u001b[0m \u001b[0;34m\u001b[0m\u001b[0m\n\u001b[1;32m   1173\u001b[0m     \u001b[0;32mreturn\u001b[0m \u001b[0mself\u001b[0m\u001b[0;34m.\u001b[0m\u001b[0m_compilation_cache\u001b[0m\u001b[0;34m[\u001b[0m\u001b[0mshape_key\u001b[0m\u001b[0;34m]\u001b[0m\u001b[0;34m\u001b[0m\u001b[0;34m\u001b[0m\u001b[0m\n",
      "\u001b[0;32m/usr/local/lib/python3.6/dist-packages/tensorflow/contrib/tpu/python/tpu/keras_support.py\u001b[0m in \u001b[0;36m_test_model_compiles\u001b[0;34m(self, tpu_model_ops)\u001b[0m\n\u001b[1;32m   1112\u001b[0m     \u001b[0;32mif\u001b[0m \u001b[0mproto\u001b[0m\u001b[0;34m.\u001b[0m\u001b[0mstatus_error_message\u001b[0m\u001b[0;34m:\u001b[0m\u001b[0;34m\u001b[0m\u001b[0;34m\u001b[0m\u001b[0m\n\u001b[1;32m   1113\u001b[0m       raise RuntimeError('Compilation failed: {}'.format(\n\u001b[0;32m-> 1114\u001b[0;31m           proto.status_error_message))\n\u001b[0m\u001b[1;32m   1115\u001b[0m \u001b[0;34m\u001b[0m\u001b[0m\n\u001b[1;32m   1116\u001b[0m     \u001b[0mend_time\u001b[0m \u001b[0;34m=\u001b[0m \u001b[0mtime\u001b[0m\u001b[0;34m.\u001b[0m\u001b[0mtime\u001b[0m\u001b[0;34m(\u001b[0m\u001b[0;34m)\u001b[0m\u001b[0;34m\u001b[0m\u001b[0;34m\u001b[0m\u001b[0m\n",
      "\u001b[0;31mRuntimeError\u001b[0m: Compilation failed: Compilation failure: Detected unsupported operations when trying to compile graph cluster_1_4563466663663704220[] on XLA_TPU_JIT: ResizeNearestNeighborGrad (No registered 'ResizeNearestNeighborGrad' OpKernel for XLA_TPU_JIT devices compatible with node {{node training/KerasCrossShardOptimizer/gradients/tpu_140357206113640/gen_dec_conv_last_ups/ResizeNearestNeighbor_grad/ResizeNearestNeighborGrad}}\n\t.  Registered:  device='CPU'; T in [DT_DOUBLE]\n  device='CPU'; T in [DT_FLOAT]\n  device='CPU'; T in [DT_BFLOAT16]\n  device='CPU'; T in [DT_HALF]\n  device='CPU'; T in [DT_INT8]\n  device='CPU'; T in [DT_UINT8]\n  device='CPU'; T in [DT_INT16]\n  device='CPU'; T in [DT_UINT16]\n  device='CPU'; T in [DT_INT32]\n  device='CPU'; T in [DT_INT64]\n){{node training/KerasCrossShardOptimizer/gradients/tpu_140357206113640/gen_dec_conv_last_ups/ResizeNearestNeighbor_grad/ResizeNearestNeighborGrad}}"
     ]
    }
   ],
   "source": [
    "history=model.fit(Xt,Yt,validation_data=(Xv,Yv),epochs=TRAIN_FLAGS.NUM_EPOCHS,batch_size=TRAIN_FLAGS.BATCH_SIZE, verbose=1)"
   ]
  },
  {
   "cell_type": "markdown",
   "metadata": {
    "colab_type": "text",
    "id": "nzx4-kyYbGfI"
   },
   "source": [
    "## Save Model Weights"
   ]
  },
  {
   "cell_type": "code",
   "execution_count": 0,
   "metadata": {
    "colab": {},
    "colab_type": "code",
    "id": "t1iTz86KbNed"
   },
   "outputs": [],
   "source": [
    "model.save_weights(os.path.join(os.getcwd(),'core','model_weights','UNET.h5'))"
   ]
  },
  {
   "cell_type": "markdown",
   "metadata": {
    "colab_type": "text",
    "id": "J1M9sjHIbSnf"
   },
   "source": [
    "## Plot Training Histoty"
   ]
  },
  {
   "cell_type": "code",
   "execution_count": 0,
   "metadata": {
    "colab": {},
    "colab_type": "code",
    "id": "ndNSS7XIbXaK"
   },
   "outputs": [],
   "source": [
    "import matplotlib.pyplot as plt\n",
    "%matplotlib inline\n",
    "plt.plot(history.history['loss'])\n",
    "plt.plot(history.history['val_loss'])\n",
    "plt.title('LOSS History')\n",
    "plt.ylabel('loss')\n",
    "plt.xlabel('epoch')\n",
    "plt.legend(['train', 'validation'], loc='upper left')"
   ]
  }
 ],
 "metadata": {
  "accelerator": "TPU",
  "colab": {
   "collapsed_sections": [],
   "include_colab_link": true,
   "name": "gen_UNET.ipynb",
   "provenance": []
  },
  "kernelspec": {
   "display_name": "Python 3",
   "language": "python",
   "name": "python3"
  },
  "language_info": {
   "codemirror_mode": {
    "name": "ipython",
    "version": 3
   },
   "file_extension": ".py",
   "mimetype": "text/x-python",
   "name": "python",
   "nbconvert_exporter": "python",
   "pygments_lexer": "ipython3",
   "version": "3.6.8"
  }
 },
 "nbformat": 4,
 "nbformat_minor": 1
}
